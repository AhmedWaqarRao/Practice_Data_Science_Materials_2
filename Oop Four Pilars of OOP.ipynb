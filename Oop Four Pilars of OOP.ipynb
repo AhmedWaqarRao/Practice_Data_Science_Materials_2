{
 "cells": [
  {
   "cell_type": "code",
   "execution_count": 1,
   "id": "91fcb40c",
   "metadata": {},
   "outputs": [
    {
     "name": "stdout",
     "output_type": "stream",
     "text": [
      "Hello World!\n"
     ]
    }
   ],
   "source": [
    "print ('Hello World!')"
   ]
  },
  {
   "cell_type": "code",
   "execution_count": 2,
   "id": "2ff5d055",
   "metadata": {},
   "outputs": [
    {
     "ename": "SyntaxError",
     "evalue": "invalid syntax (1412164230.py, line 1)",
     "output_type": "error",
     "traceback": [
      "\u001b[1;36m  Cell \u001b[1;32mIn[2], line 1\u001b[1;36m\u001b[0m\n\u001b[1;33m    calculate the salary for employee\u001b[0m\n\u001b[1;37m              ^\u001b[0m\n\u001b[1;31mSyntaxError\u001b[0m\u001b[1;31m:\u001b[0m invalid syntax\n"
     ]
    }
   ],
   "source": [
    "calculate the salary for employee "
   ]
  },
  {
   "cell_type": "markdown",
   "id": "dc79b225",
   "metadata": {},
   "source": [
    "## Check if an employee has achieved his weekly target or not?\n"
   ]
  },
  {
   "cell_type": "code",
   "execution_count": 3,
   "id": "cedd20f4",
   "metadata": {},
   "outputs": [],
   "source": [
    "#class Employee:"
   ]
  },
  {
   "cell_type": "code",
   "execution_count": 4,
   "id": "5779f84a",
   "metadata": {},
   "outputs": [],
   "source": [
    "#Adjective=Atributes"
   ]
  },
  {
   "cell_type": "code",
   "execution_count": 5,
   "id": "1feb8fa6",
   "metadata": {},
   "outputs": [],
   "source": [
    "name = \"Wang\""
   ]
  },
  {
   "cell_type": "code",
   "execution_count": 6,
   "id": "12a59ccf",
   "metadata": {},
   "outputs": [],
   "source": [
    "designation = \"Sales Manager\" , Action = Methods"
   ]
  },
  {
   "cell_type": "code",
   "execution_count": 14,
   "id": "a3f5568d",
   "metadata": {},
   "outputs": [
    {
     "ename": "IndentationError",
     "evalue": "unindent does not match any outer indentation level (<tokenize>, line 11)",
     "output_type": "error",
     "traceback": [
      "\u001b[1;36m  File \u001b[1;32m<tokenize>:11\u001b[1;36m\u001b[0m\n\u001b[1;33m    employeeOne = Employee()\u001b[0m\n\u001b[1;37m    ^\u001b[0m\n\u001b[1;31mIndentationError\u001b[0m\u001b[1;31m:\u001b[0m unindent does not match any outer indentation level\n"
     ]
    }
   ],
   "source": [
    "\n",
    "class Employee:\n",
    "    name = \"Wang\"\n",
    "designation = \"Sales Manager\"\n",
    "Sales_Made_This_Week = 7\n",
    "def has_Achieved_Target (self):\n",
    "    if self.sales_Made_This_Week >=5:\n",
    "        print (\"Target has been achieved\")\n",
    "        else:\n",
    "            print (\"Target has not been achieved\")\n",
    "            \n",
    "  employeeOne = Employee()\n",
    "  employeeOne.name\n",
    "  employeeOne.hasAchievedTarget()"
   ]
  },
  {
   "cell_type": "code",
   "execution_count": 15,
   "id": "d1bfc32c",
   "metadata": {},
   "outputs": [],
   "source": [
    "numbers = [1,2,3]"
   ]
  },
  {
   "cell_type": "code",
   "execution_count": 16,
   "id": "82910163",
   "metadata": {},
   "outputs": [
    {
     "data": {
      "text/plain": [
       "list"
      ]
     },
     "execution_count": 16,
     "metadata": {},
     "output_type": "execute_result"
    }
   ],
   "source": [
    "type(numbers)"
   ]
  },
  {
   "cell_type": "code",
   "execution_count": 17,
   "id": "b11d8934",
   "metadata": {},
   "outputs": [],
   "source": [
    "numbers.append(4)"
   ]
  },
  {
   "cell_type": "code",
   "execution_count": 18,
   "id": "f73d79d7",
   "metadata": {},
   "outputs": [
    {
     "data": {
      "text/plain": [
       "[1, 2, 3, 4]"
      ]
     },
     "execution_count": 18,
     "metadata": {},
     "output_type": "execute_result"
    }
   ],
   "source": [
    "numbers"
   ]
  },
  {
   "cell_type": "code",
   "execution_count": 19,
   "id": "7f0d638b",
   "metadata": {},
   "outputs": [
    {
     "data": {
      "text/plain": [
       "list"
      ]
     },
     "execution_count": 19,
     "metadata": {},
     "output_type": "execute_result"
    }
   ],
   "source": [
    "type(numbers)"
   ]
  },
  {
   "cell_type": "code",
   "execution_count": 20,
   "id": "5ddaa3e6",
   "metadata": {},
   "outputs": [
    {
     "ename": "TypeError",
     "evalue": "Employee.employeeDetails() takes 0 positional arguments but 1 was given",
     "output_type": "error",
     "traceback": [
      "\u001b[1;31m---------------------------------------------------------------------------\u001b[0m",
      "\u001b[1;31mTypeError\u001b[0m                                 Traceback (most recent call last)",
      "Cell \u001b[1;32mIn[20], line 6\u001b[0m\n\u001b[0;32m      3\u001b[0m \t\t\u001b[38;5;28;01mpass\u001b[39;00m\n\u001b[0;32m      5\u001b[0m employee \u001b[38;5;241m=\u001b[39m Employee()\n\u001b[1;32m----> 6\u001b[0m employee\u001b[38;5;241m.\u001b[39memployeeDetails()\n",
      "\u001b[1;31mTypeError\u001b[0m: Employee.employeeDetails() takes 0 positional arguments but 1 was given"
     ]
    }
   ],
   "source": [
    "class Employee:\n",
    "\tdef employeeDetails():\n",
    "\t\tpass\n",
    "\n",
    "employee = Employee()\n",
    "employee.employeeDetails()\n",
    "\n"
   ]
  },
  {
   "cell_type": "code",
   "execution_count": 32,
   "id": "a5164793",
   "metadata": {},
   "outputs": [
    {
     "ename": "IndentationError",
     "evalue": "unindent does not match any outer indentation level (<tokenize>, line 8)",
     "output_type": "error",
     "traceback": [
      "\u001b[1;36m  File \u001b[1;32m<tokenize>:8\u001b[1;36m\u001b[0m\n\u001b[1;33m    def printEmployeeDetails(self):\u001b[0m\n\u001b[1;37m    ^\u001b[0m\n\u001b[1;31mIndentationError\u001b[0m\u001b[1;31m:\u001b[0m unindent does not match any outer indentation level\n"
     ]
    }
   ],
   "source": [
    "class Employee:\n",
    "\tdef employeeDetails(self):\n",
    "\t\tself.name = \"Katen\"\n",
    "\t\tprint( \"Name=\", self.name)\n",
    "        age = 35\n",
    "        print (\"Age = \", age)\n",
    "        \n",
    "    def printEmployeeDetails(self):\n",
    "        print(\"Printing in another method\")\n",
    "        print(\"Name: \", self.name)\n",
    "        print(\"Age:\",age)\n",
    "        \n",
    "employee = Employee()\n",
    "employee.employeeDetails()\n",
    "Employee.employeeDetails(employee)\n",
    "\n"
   ]
  },
  {
   "cell_type": "code",
   "execution_count": 47,
   "id": "11efbdbb",
   "metadata": {},
   "outputs": [
    {
     "ename": "IndentationError",
     "evalue": "unindent does not match any outer indentation level (<tokenize>, line 8)",
     "output_type": "error",
     "traceback": [
      "\u001b[1;36m  File \u001b[1;32m<tokenize>:8\u001b[1;36m\u001b[0m\n\u001b[1;33m    def printEmployeeDetails(self):\u001b[0m\n\u001b[1;37m    ^\u001b[0m\n\u001b[1;31mIndentationError\u001b[0m\u001b[1;31m:\u001b[0m unindent does not match any outer indentation level\n"
     ]
    }
   ],
   "source": [
    "class Employee:\n",
    "\tdef employeeDetails(self):\n",
    "\t\tself.name = \"Katen\"\n",
    "\t\tprint( \"Name=\", self.name)\n",
    "        age = 35\n",
    "        print (\"Age = \", age)\n",
    "        \n",
    "    def printEmployeeDetails(self):\n",
    "        print(\"Printing in another method\")\n",
    "        print(\"Name: \", self.name)\n",
    "        print(\"Age:\",age)\n",
    "        \n",
    "employee = Employee()\n",
    "employee.employeeDetails()\n",
    "Employee.employeeDetails(employee)"
   ]
  },
  {
   "cell_type": "code",
   "execution_count": 49,
   "id": "e7c2a167",
   "metadata": {},
   "outputs": [
    {
     "ename": "AttributeError",
     "evalue": "'Employee' object has no attribute 'name'",
     "output_type": "error",
     "traceback": [
      "\u001b[1;31m---------------------------------------------------------------------------\u001b[0m",
      "\u001b[1;31mAttributeError\u001b[0m                            Traceback (most recent call last)",
      "Cell \u001b[1;32mIn[49], line 9\u001b[0m\n\u001b[0;32m      7\u001b[0m employee \u001b[38;5;241m=\u001b[39m Employee()\n\u001b[0;32m      8\u001b[0m employee\u001b[38;5;241m.\u001b[39memployeeDetails\n\u001b[1;32m----> 9\u001b[0m \u001b[38;5;28mprint\u001b[39m (employee\u001b[38;5;241m.\u001b[39mname)\n\u001b[0;32m     10\u001b[0m employee\u001b[38;5;241m.\u001b[39mwelcomeMessage()\n",
      "\u001b[1;31mAttributeError\u001b[0m: 'Employee' object has no attribute 'name'"
     ]
    }
   ],
   "source": [
    "class Employee:\n",
    "    def employeeDetails(self):\n",
    "        self.name = \"Wang\"\n",
    "    @staticmethod  \n",
    "    def welcomeMessage(self):\n",
    "        print(\"Welcome to our organization!\")\n",
    "employee = Employee()\n",
    "employee.employeeDetails\n",
    "print (employee.name)\n",
    "employee.welcomeMessage()\n"
   ]
  },
  {
   "cell_type": "code",
   "execution_count": 50,
   "id": "1c145e27",
   "metadata": {},
   "outputs": [
    {
     "ename": "AttributeError",
     "evalue": "'Employee' object has no attribute 'displayEmployeeDetails'",
     "output_type": "error",
     "traceback": [
      "\u001b[1;31m---------------------------------------------------------------------------\u001b[0m",
      "\u001b[1;31mAttributeError\u001b[0m                            Traceback (most recent call last)",
      "Cell \u001b[1;32mIn[50], line 11\u001b[0m\n\u001b[0;32m      9\u001b[0m employeeOne \u001b[38;5;241m=\u001b[39m Employee(\u001b[38;5;124m\"\u001b[39m\u001b[38;5;124mCarl\u001b[39m\u001b[38;5;124m\"\u001b[39m)\n\u001b[0;32m     10\u001b[0m employeeTwo \u001b[38;5;241m=\u001b[39m Employee(\u001b[38;5;124m\"\u001b[39m\u001b[38;5;124mWang\u001b[39m\u001b[38;5;124m\"\u001b[39m)\n\u001b[1;32m---> 11\u001b[0m employee\u001b[38;5;241m.\u001b[39mdisplayEmployeeDetails()\n\u001b[0;32m     12\u001b[0m employee\u001b[38;5;241m.\u001b[39mdisplayEmployeeDetails()\n",
      "\u001b[1;31mAttributeError\u001b[0m: 'Employee' object has no attribute 'displayEmployeeDetails'"
     ]
    }
   ],
   "source": [
    "class Employee:\n",
    "    \n",
    "    def __init__(self, name):\n",
    "        self.name = name\n",
    "        \n",
    "    def displayEmployeeDetails(self):\n",
    "        print(self.name)\n",
    "        \n",
    "employeeOne = Employee(\"Carl\")\n",
    "employeeTwo = Employee(\"Wang\")\n",
    "employee.displayEmployeeDetails()\n",
    "employee.displayEmployeeDetails()"
   ]
  },
  {
   "cell_type": "markdown",
   "id": "924a996a",
   "metadata": {},
   "source": [
    "## Abstraction & Encapsulation"
   ]
  },
  {
   "cell_type": "code",
   "execution_count": 53,
   "id": "7855a645",
   "metadata": {},
   "outputs": [
    {
     "ename": "SyntaxError",
     "evalue": "invalid syntax (1164910463.py, line 2)",
     "output_type": "error",
     "traceback": [
      "\u001b[1;36m  Cell \u001b[1;32mIn[53], line 2\u001b[1;36m\u001b[0m\n\u001b[1;33m    def__init__(self,listofBooks):\u001b[0m\n\u001b[1;37m                                 ^\u001b[0m\n\u001b[1;31mSyntaxError\u001b[0m\u001b[1;31m:\u001b[0m invalid syntax\n"
     ]
    }
   ],
   "source": [
    "class Library :\n",
    "    \n",
    "    def__init__(self,listofBooks):\n",
    "        self.availableBooks = listofBooks\n",
    "        \n",
    "    def displayAvailableBooks(self):\n",
    "        print()\n",
    "        print(\"Available Books: \")\n",
    "        for book in self.availableBooks:\n",
    "            print(book)\n",
    "        \n",
    "    def lendBook(self, requestedBook):\n",
    "        if requestBook in self.availableBooks:\n",
    "            print (\"You have now borrowed the book\")\n",
    "            self.availableBooks.remove(requestedBook)\n",
    "            \n",
    "        else:\n",
    "            print (\"Sorry , the is not available in our list.\")\n",
    "            \n",
    "    def addBook(self, returnedBook):\n",
    "        self.avaialableBooks.append (returnBook)\n",
    "        print (\" You have returned the book. Thank you!\")\n",
    "    \n",
    "    class Customer:\n",
    "        def requestBook(self):\n",
    "            print (\"Enter the name of a book you would like to borrow: \")\n",
    "            self.book = input()\n",
    "            return self.book\n",
    "            \n",
    "        def returnBook(self):\n",
    "            print ( \" Enter the name of the Book which your are returning: \")\n",
    "            self.book = input()\n",
    "            return self.book\n",
    "\n",
    "library = Library('Think and Grow Rich', 'Who will cry when you die', 'for one more day')\n",
    "customer = Customer()\n",
    "\n",
    "while True:\n",
    "\n",
    "print (\" Enter 1 to display the available books \")\n",
    "print (\" Enter 2 to request for a book \")\n",
    "print (\" Enter 3 to return a book \")\n",
    "print (\" Enter 4 to exit \")\n",
    "userchoice = int(input())\n",
    "if userchoice is 1 :\n",
    "    library.displayAvailableBooks()\n",
    "elif userchoice is 2: \n",
    "    requestedBook = customer.requestBook()\n",
    "    library.lendBook (requestedBook)\n",
    "elif userchoice is 3:\n",
    "    returnBook = customer.returnBook()\n",
    "    library.addBook(returnedBook)\n",
    "elif userchoice is 4:\n",
    "    quit()"
   ]
  },
  {
   "cell_type": "markdown",
   "id": "31cfe36e",
   "metadata": {},
   "source": [
    "##Inheritance\n"
   ]
  },
  {
   "cell_type": "markdown",
   "id": "3726ed16",
   "metadata": {},
   "source": [
    "## Inheritance"
   ]
  },
  {
   "cell_type": "code",
   "execution_count": 56,
   "id": "e35e9545",
   "metadata": {},
   "outputs": [
    {
     "ename": "AttributeError",
     "evalue": "'MacBook' object has no attribute 'manufacture'",
     "output_type": "error",
     "traceback": [
      "\u001b[1;31m---------------------------------------------------------------------------\u001b[0m",
      "\u001b[1;31mAttributeError\u001b[0m                            Traceback (most recent call last)",
      "Cell \u001b[1;32mIn[56], line 16\u001b[0m\n\u001b[0;32m     13\u001b[0m         \u001b[38;5;28mprint\u001b[39m (\u001b[38;5;124m\"\u001b[39m\u001b[38;5;124mThis MacBook was manufactured in the year \u001b[39m\u001b[38;5;132;01m{}\u001b[39;00m\u001b[38;5;124m by \u001b[39m\u001b[38;5;132;01m{}\u001b[39;00m\u001b[38;5;124m\"\u001b[39m\u001b[38;5;241m.\u001b[39mformat(\u001b[38;5;28mself\u001b[39m\u001b[38;5;241m.\u001b[39myearofManufacture, \u001b[38;5;28mself\u001b[39m\u001b[38;5;241m.\u001b[39mmanufacture))\n\u001b[0;32m     15\u001b[0m macBook \u001b[38;5;241m=\u001b[39m  MacBook()\n\u001b[1;32m---> 16\u001b[0m macBook\u001b[38;5;241m.\u001b[39mmanufactureDetails()\n\u001b[0;32m     17\u001b[0m macBook\u001b[38;5;241m.\u001b[39mcontactDetails()\n",
      "Cell \u001b[1;32mIn[56], line 13\u001b[0m, in \u001b[0;36mMacBook.manufactureDetails\u001b[1;34m(self)\u001b[0m\n\u001b[0;32m     12\u001b[0m \u001b[38;5;28;01mdef\u001b[39;00m \u001b[38;5;21mmanufactureDetails\u001b[39m(\u001b[38;5;28mself\u001b[39m):\n\u001b[1;32m---> 13\u001b[0m     \u001b[38;5;28mprint\u001b[39m (\u001b[38;5;124m\"\u001b[39m\u001b[38;5;124mThis MacBook was manufactured in the year \u001b[39m\u001b[38;5;132;01m{}\u001b[39;00m\u001b[38;5;124m by \u001b[39m\u001b[38;5;132;01m{}\u001b[39;00m\u001b[38;5;124m\"\u001b[39m\u001b[38;5;241m.\u001b[39mformat(\u001b[38;5;28mself\u001b[39m\u001b[38;5;241m.\u001b[39myearofManufacture, \u001b[38;5;28mself\u001b[39m\u001b[38;5;241m.\u001b[39mmanufacture))\n",
      "\u001b[1;31mAttributeError\u001b[0m: 'MacBook' object has no attribute 'manufacture'"
     ]
    }
   ],
   "source": [
    "class Apple:\n",
    "    manufacturer = \"Apple Inc\"\n",
    "    contactWebsie = \"www.apple.com/contact\"\n",
    "    \n",
    "    def contactDetails(self):\n",
    "        print (\"To contact us, log on to \", self,contactWebsite)\n",
    "\n",
    "class MacBook(Apple):\n",
    "    def __init__(self):\n",
    "        self.yearofManufacture = 2017\n",
    "    \n",
    "    def manufactureDetails(self):\n",
    "        print (\"This MacBook was manufactured in the year {} by {}\".format(self.yearofManufacture, self.manufacture))\n",
    "        \n",
    "macBook =  MacBook()\n",
    "macBook.manufactureDetails()\n",
    "macBook.contactDetails()\n"
   ]
  },
  {
   "cell_type": "markdown",
   "id": "6a7f3c22",
   "metadata": {},
   "source": [
    "## MultipleInheritance"
   ]
  },
  {
   "cell_type": "code",
   "execution_count": 60,
   "id": "db8b53a8",
   "metadata": {},
   "outputs": [
    {
     "ename": "IndentationError",
     "evalue": "unindent does not match any outer indentation level (<tokenize>, line 9)",
     "output_type": "error",
     "traceback": [
      "\u001b[1;36m  File \u001b[1;32m<tokenize>:9\u001b[1;36m\u001b[0m\n\u001b[1;33m    if self.multitasking is True:\u001b[0m\n\u001b[1;37m    ^\u001b[0m\n\u001b[1;31mIndentationError\u001b[0m\u001b[1;31m:\u001b[0m unindent does not match any outer indentation level\n"
     ]
    }
   ],
   "source": [
    "class OperatingSystem:\n",
    "    multitasking = True\n",
    "    \n",
    "class Apple:\n",
    "    websit = \" www.apple.com\"\n",
    "\n",
    "class MacBook(OperatingSystem, Apple):\n",
    "           def __init __(self):\n",
    "        if self.multitasking is True:\n",
    "            print (\"This is a multi tasking system. Visit {} for more details\".format(self.website))\n",
    "macBook = MacBook()\n"
   ]
  },
  {
   "cell_type": "markdown",
   "id": "b153ffad",
   "metadata": {},
   "source": [
    "## Multilevel Inheritance "
   ]
  },
  {
   "cell_type": "code",
   "execution_count": 64,
   "id": "04458acd",
   "metadata": {},
   "outputs": [
    {
     "ename": "AttributeError",
     "evalue": "'Guitar' object has no attribute 'numbersofStrings'",
     "output_type": "error",
     "traceback": [
      "\u001b[1;31m---------------------------------------------------------------------------\u001b[0m",
      "\u001b[1;31mAttributeError\u001b[0m                            Traceback (most recent call last)",
      "Cell \u001b[1;32mIn[64], line 13\u001b[0m\n\u001b[0;32m      9\u001b[0m         \u001b[38;5;28mself\u001b[39m\u001b[38;5;241m.\u001b[39mnumberofStrings \u001b[38;5;241m=\u001b[39m \u001b[38;5;241m9\u001b[39m\n\u001b[0;32m     10\u001b[0m         \u001b[38;5;28mprint\u001b[39m (\u001b[38;5;124m\"\u001b[39m\u001b[38;5;124mThis guitar consists of \u001b[39m\u001b[38;5;132;01m{}\u001b[39;00m\u001b[38;5;124m strings. It is made of \u001b[39m\u001b[38;5;132;01m{}\u001b[39;00m\u001b[38;5;124m and it can play \u001b[39m\u001b[38;5;132;01m{}\u001b[39;00m\u001b[38;5;124m Keys\u001b[39m\u001b[38;5;124m\"\u001b[39m\u001b[38;5;241m.\u001b[39mformat(\u001b[38;5;28mself\u001b[39m\u001b[38;5;241m.\u001b[39mnumbersofStrings, \u001b[38;5;28mself\u001b[39m\u001b[38;5;241m.\u001b[39mtypeofWood, \u001b[38;5;28mself\u001b[39m\u001b[38;5;241m.\u001b[39mnumberofMajorKeys))\n\u001b[1;32m---> 13\u001b[0m guitar \u001b[38;5;241m=\u001b[39m Guitar ()\n",
      "Cell \u001b[1;32mIn[64], line 10\u001b[0m, in \u001b[0;36mGuitar.__init__\u001b[1;34m(self)\u001b[0m\n\u001b[0;32m      8\u001b[0m \u001b[38;5;28;01mdef\u001b[39;00m \u001b[38;5;21m__init__\u001b[39m(\u001b[38;5;28mself\u001b[39m):\n\u001b[0;32m      9\u001b[0m     \u001b[38;5;28mself\u001b[39m\u001b[38;5;241m.\u001b[39mnumberofStrings \u001b[38;5;241m=\u001b[39m \u001b[38;5;241m9\u001b[39m\n\u001b[1;32m---> 10\u001b[0m     \u001b[38;5;28mprint\u001b[39m (\u001b[38;5;124m\"\u001b[39m\u001b[38;5;124mThis guitar consists of \u001b[39m\u001b[38;5;132;01m{}\u001b[39;00m\u001b[38;5;124m strings. It is made of \u001b[39m\u001b[38;5;132;01m{}\u001b[39;00m\u001b[38;5;124m and it can play \u001b[39m\u001b[38;5;132;01m{}\u001b[39;00m\u001b[38;5;124m Keys\u001b[39m\u001b[38;5;124m\"\u001b[39m\u001b[38;5;241m.\u001b[39mformat(\u001b[38;5;28mself\u001b[39m\u001b[38;5;241m.\u001b[39mnumbersofStrings, \u001b[38;5;28mself\u001b[39m\u001b[38;5;241m.\u001b[39mtypeofWood, \u001b[38;5;28mself\u001b[39m\u001b[38;5;241m.\u001b[39mnumberofMajorKeys))\n",
      "\u001b[1;31mAttributeError\u001b[0m: 'Guitar' object has no attribute 'numbersofStrings'"
     ]
    }
   ],
   "source": [
    "class MusicalInstruments:\n",
    "    numberofMajorKeys = 15\n",
    "\n",
    "class StringInstruments ( MusicalInstruments):\n",
    "    typedofWood = \"Tonewood\"\n",
    "    \n",
    "class Guitar(StringInstruments):\n",
    "    def __init__(self):\n",
    "        self.numberofStrings = 9\n",
    "        print (\"This guitar consists of {} strings. It is made of {} and it can play {} Keys\".format(self.numbersofStrings, self.typeofWood, self.numberofMajorKeys))\n",
    "        \n",
    "        \n",
    "guitar = Guitar ()\n",
    "        "
   ]
  },
  {
   "cell_type": "markdown",
   "id": "d235269e",
   "metadata": {},
   "source": [
    "## Access Specifiers"
   ]
  },
  {
   "cell_type": "code",
   "execution_count": 67,
   "id": "bf05475d",
   "metadata": {},
   "outputs": [
    {
     "name": "stdout",
     "output_type": "stream",
     "text": [
      "Public attribute numberofWheels:  4\n",
      "Protected attribute color:  Blue\n"
     ]
    },
    {
     "ename": "AttributeError",
     "evalue": "'Car' object has no attribute '__yearofManufacture'",
     "output_type": "error",
     "traceback": [
      "\u001b[1;31m---------------------------------------------------------------------------\u001b[0m",
      "\u001b[1;31mAttributeError\u001b[0m                            Traceback (most recent call last)",
      "Cell \u001b[1;32mIn[67], line 13\u001b[0m\n\u001b[0;32m     11\u001b[0m \u001b[38;5;28mprint\u001b[39m (\u001b[38;5;124m\"\u001b[39m\u001b[38;5;124mPublic attribute numberofWheels: \u001b[39m\u001b[38;5;124m\"\u001b[39m, Car\u001b[38;5;241m.\u001b[39mnumberofWheels)\n\u001b[0;32m     12\u001b[0m bmw \u001b[38;5;241m=\u001b[39m Bmw()\n\u001b[1;32m---> 13\u001b[0m \u001b[38;5;28mprint\u001b[39m ( \u001b[38;5;124m\"\u001b[39m\u001b[38;5;124mPrivate attribute yearofManufacture:\u001b[39m\u001b[38;5;124m\"\u001b[39m, car\u001b[38;5;241m.\u001b[39m__yearofManufacture)\n",
      "\u001b[1;31mAttributeError\u001b[0m: 'Car' object has no attribute '__yearofManufacture'"
     ]
    }
   ],
   "source": [
    "class Car:\n",
    "    numberofWheels=4\n",
    "    _color = \"Blue\"\n",
    "    __YearofManufacture = 2017\n",
    "    \n",
    "class Bmw(Car):\n",
    "    def __init__(self):\n",
    "        print(\"Protected attribute color: \", self._color)\n",
    "    \n",
    "car = Car()\n",
    "print (\"Public attribute numberofWheels: \", Car.numberofWheels)\n",
    "bmw = Bmw()\n",
    "print ( \"Private attribute yearofManufacture:\", car.__yearofManufacture)"
   ]
  },
  {
   "cell_type": "markdown",
   "id": "46699bfb",
   "metadata": {},
   "source": [
    "## Overriding and Super() Method"
   ]
  },
  {
   "cell_type": "code",
   "execution_count": 69,
   "id": "a8b8c0e4",
   "metadata": {},
   "outputs": [
    {
     "name": "stdout",
     "output_type": "stream",
     "text": [
      "Number of working of employee:  45\n",
      "Number of working of trainee:  50\n"
     ]
    }
   ],
   "source": [
    "class Employee:\n",
    "    def setNumberOfWorkingHours(self):\n",
    "        self.numberOfWorkingHours = 45\n",
    "        \n",
    "    def displayNumberOfWorkingHours(self):\n",
    "        print (self.numberOfWorkingHours)\n",
    "class Trainee(Employee):\n",
    "    def setNumberOfWorkingHours(self):\n",
    "        self.numberOfWorkingHours = 50\n",
    "        \n",
    "    def resetNumberOfWorkingHours(self):\n",
    "        super().setNumberOfWorkingHours()\n",
    "        \n",
    "        \n",
    "employee = Employee()\n",
    "employee.setNumberOfWorkingHours()\n",
    "print (\"Number of working of employee: \", end = ' ')\n",
    "employee.displayNumberOfWorkingHours()\n",
    "trainee = Trainee()\n",
    "trainee.setNumberOfWorkingHours()\n",
    "print (\"Number of working of trainee: \", end = ' ')\n",
    "trainee.displayNumberOfWorkingHours()\n",
    "trainee.resetNumberOfWorkingHours()\n",
    "print (\"Number of working of trainee after reset: \", end = ' ')\n",
    "trainee.displayNumberOfWorkingHours()\n"
   ]
  },
  {
   "cell_type": "markdown",
   "id": "3a087719",
   "metadata": {},
   "source": [
    "## The Diamond Shape Problem in Multiple Inheritance"
   ]
  },
  {
   "cell_type": "code",
   "execution_count": 75,
   "id": "40d47f60",
   "metadata": {},
   "outputs": [
    {
     "name": "stdout",
     "output_type": "stream",
     "text": [
      "This method belongs to class C\n"
     ]
    }
   ],
   "source": [
    "class A:\n",
    "    def method(self):\n",
    "        print (\"This method belongs to class A\")\n",
    " \n",
    "\n",
    "class B(A):\n",
    "    def method(self):\n",
    "        print (\"This method belongs to class B\")\n",
    "    \n",
    "    pass\n",
    "\n",
    "class C(A):\n",
    "    def method(self):\n",
    "        print (\"This method belongs to class C\")\n",
    "    pass\n",
    "\n",
    "class D(C,B):\n",
    "    pass\n",
    "\n",
    "d = D()\n",
    "d.method()"
   ]
  },
  {
   "cell_type": "markdown",
   "id": "1a2b543a",
   "metadata": {},
   "source": [
    "## Overloading an Operator"
   ]
  },
  {
   "cell_type": "code",
   "execution_count": 1,
   "id": "05565bc6",
   "metadata": {},
   "outputs": [],
   "source": [
    "#overloading.py"
   ]
  },
  {
   "cell_type": "code",
   "execution_count": 4,
   "id": "6cbf9cb0",
   "metadata": {},
   "outputs": [
    {
     "name": "stdout",
     "output_type": "stream",
     "text": [
      "Sum of sides of both the Squares =  60\n"
     ]
    }
   ],
   "source": [
    "class Square:\n",
    "    def __init__(self, side):\n",
    "        self.side = side\n",
    "        \n",
    "    def __add__(squareOne, squareTwo):\n",
    "        return ((4 * squareOne.side) + (4 * squareTwo.side))\n",
    "        \n",
    "squareOne = Square(5) # 5 * 4 = 20\n",
    "squareTwo = Square(10) #10 * 4 = 40\n",
    "print (\"Sum of sides of both the Squares = \", squareOne + squareTwo)\n"
   ]
  },
  {
   "cell_type": "markdown",
   "id": "a3ce9a4b",
   "metadata": {},
   "source": [
    "## Implementing an Abstract Base Class (ABC)\n"
   ]
  },
  {
   "cell_type": "code",
   "execution_count": 5,
   "id": "a93d26c7",
   "metadata": {},
   "outputs": [
    {
     "ename": "NameError",
     "evalue": "name 'abc' is not defined",
     "output_type": "error",
     "traceback": [
      "\u001b[1;31m---------------------------------------------------------------------------\u001b[0m",
      "\u001b[1;31mNameError\u001b[0m                                 Traceback (most recent call last)",
      "Cell \u001b[1;32mIn[5], line 1\u001b[0m\n\u001b[1;32m----> 1\u001b[0m abc\u001b[38;5;241m.\u001b[39mpy\n",
      "\u001b[1;31mNameError\u001b[0m: name 'abc' is not defined"
     ]
    }
   ],
   "source": [
    "abc.py"
   ]
  },
  {
   "cell_type": "code",
   "execution_count": 10,
   "id": "227cf910",
   "metadata": {},
   "outputs": [
    {
     "name": "stdout",
     "output_type": "stream",
     "text": [
      "Area of sqaure:  16\n",
      "Area of rectangle:  50\n"
     ]
    }
   ],
   "source": [
    "class Square:\n",
    "    side = 4\n",
    "    def area(self):\n",
    "        print(\"Area of sqaure: \",self.side * self.side)\n",
    "        \n",
    "class Rectangle:\n",
    "    width = 5 \n",
    "    length = 10\n",
    "    def area(self):\n",
    "        print(\"Area of rectangle: \", self.width * self.length)\n",
    "\n",
    "square = Square()\n",
    "rectangle = Rectangle()\n",
    "square.area()\n",
    "rectangle.area()\n"
   ]
  },
  {
   "cell_type": "code",
   "execution_count": 13,
   "id": "fb794092",
   "metadata": {},
   "outputs": [
    {
     "name": "stdout",
     "output_type": "stream",
     "text": [
      "Area of sqaure:  16\n",
      "Area of rectangle:  50\n"
     ]
    },
    {
     "ename": "TypeError",
     "evalue": "Can't instantiate abstract class Shape with abstract method area",
     "output_type": "error",
     "traceback": [
      "\u001b[1;31m---------------------------------------------------------------------------\u001b[0m",
      "\u001b[1;31mTypeError\u001b[0m                                 Traceback (most recent call last)",
      "Cell \u001b[1;32mIn[13], line 25\u001b[0m\n\u001b[0;32m     23\u001b[0m square\u001b[38;5;241m.\u001b[39marea()\n\u001b[0;32m     24\u001b[0m rectangle\u001b[38;5;241m.\u001b[39marea()\n\u001b[1;32m---> 25\u001b[0m shape \u001b[38;5;241m=\u001b[39m Shape()\n",
      "\u001b[1;31mTypeError\u001b[0m: Can't instantiate abstract class Shape with abstract method area"
     ]
    }
   ],
   "source": [
    "from abc import ABCMeta, abstractmethod\n",
    "\n",
    "class Shape(metaclass = ABCMeta):\n",
    "    \n",
    "    @abstractmethod\n",
    "    def area(self):\n",
    "        return 0\n",
    "    \n",
    "\n",
    "class Square:\n",
    "    side = 4\n",
    "    def area(self):\n",
    "        print(\"Area of sqaure: \",self.side * self.side)\n",
    "        \n",
    "class Rectangle:\n",
    "    width = 5 \n",
    "    length = 10\n",
    "    def area(self):\n",
    "        print(\"Area of rectangle: \", self.width * self.length)\n",
    "\n",
    "square = Square()\n",
    "rectangle = Rectangle()\n",
    "square.area()\n",
    "rectangle.area()\n",
    "shape = Shape()\n",
    "\n"
   ]
  },
  {
   "cell_type": "code",
   "execution_count": null,
   "id": "6c2ea6c0",
   "metadata": {},
   "outputs": [],
   "source": []
  }
 ],
 "metadata": {
  "kernelspec": {
   "display_name": "Python 3 (ipykernel)",
   "language": "python",
   "name": "python3"
  },
  "language_info": {
   "codemirror_mode": {
    "name": "ipython",
    "version": 3
   },
   "file_extension": ".py",
   "mimetype": "text/x-python",
   "name": "python",
   "nbconvert_exporter": "python",
   "pygments_lexer": "ipython3",
   "version": "3.11.5"
  }
 },
 "nbformat": 4,
 "nbformat_minor": 5
}
